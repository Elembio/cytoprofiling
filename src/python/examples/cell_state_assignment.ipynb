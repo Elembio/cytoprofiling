{
 "cells": [
  {
   "cell_type": "markdown",
   "metadata": {},
   "source": [
    "The following workbook provides an example of how to use scanpy to classify cell state with Teton cytoprofiling data. As part of this process, it also provides examples of how to\n",
    "* load and filter data \n",
    "* convert data into the AnnData format\n",
    "* perform basic processing of the data with scanpy\n",
    "* generate and plot a UMAP projection with scanpy\n",
    "\n",
    "In order to use this workbook, you must have\n",
    "* AWS CLI available in your path\n",
    "* The following python dependencies installed: cytoprofiling, scanpy, anndata, numpy, pandas"
   ]
  },
  {
   "cell_type": "markdown",
   "metadata": {},
   "source": [
    "In the cell below, select the location of the data and wells to be included in the analysis. The defaults are a publicly available dataset for demonstration. "
   ]
  },
  {
   "cell_type": "code",
   "execution_count": null,
   "metadata": {},
   "outputs": [],
   "source": [
    "run_directory = \"s3://element-public-data/cytoprofiling/ACE-3376\"\n",
    "wells = [\"A2\",]"
   ]
  },
  {
   "cell_type": "markdown",
   "metadata": {},
   "source": [
    "Load the data from S3. Default cell filtering is performed with the cytoprofiling "
   ]
  },
  {
   "cell_type": "code",
   "execution_count": null,
   "metadata": {},
   "outputs": [],
   "source": [
    "import pandas as pd\n",
    "import json\n",
    "from tempfile import TemporaryDirectory\n",
    "import cytoprofiling\n",
    "import subprocess\n",
    "\n",
    "# If credentials are already defined in the environment, they \n",
    "# may need to be disabled to make unathenticated requests to public data\n",
    "# set in S3\n",
    "#\n",
    "# import os\n",
    "# if \"AWS_ACCESS_KEY_ID\" in os.environ:\n",
    "#     del os.environ[\"AWS_ACCESS_KEY_ID\"]\n",
    "\n",
    "panel_file = f\"{run_directory}/Panel.json\"\n",
    "with TemporaryDirectory() as temp_dir:\n",
    "    # download the panel file from s3 and open\n",
    "    subprocess.run([\"aws\", \"s3\", \"cp\" ,panel_file, temp_dir], check=True)\n",
    "    panel_json = json.load(open(f\"{temp_dir}/Panel.json\", \"rb\"))\n",
    "\n",
    "df = pd.read_parquet(\"s3://element-public-data/cytoprofiling/ACE-3376/Cytoprofiling/Instrument/RawCellStats.parquet\")\n",
    "df = df[df[\"Well\"].isin(wells)]\n",
    "df = cytoprofiling.filter_cells(df)\n",
    "df = cytoprofiling.normalize_cytoprofiling(df)"
   ]
  },
  {
   "cell_type": "markdown",
   "metadata": {},
   "source": [
    "Process the data with scanpy to assign cell phase and display in a UMAP projection. "
   ]
  },
  {
   "cell_type": "code",
   "execution_count": null,
   "metadata": {},
   "outputs": [],
   "source": [
    "\n",
    "import scanpy as sc\n",
    "import numpy as np\n",
    "\n",
    "import cytoprofiling\n",
    "\n",
    "# Convert dataframe to anndata\n",
    "adata = cytoprofiling.cytoprofiling_to_anndata(df, panel_json)\n",
    "\n",
    "# filter data columns to only include simple counts for protein and RNA\n",
    "adata = adata[:,(~adata.var[\"is_unassigned\"]) & (~adata.var[\"is_nuclear\"]) & np.isin(adata.var[\"measurement_type\"], [\"RNA\",])]\n",
    "\n",
    "# convert column names to gene names and remove any resulting duplicates \n",
    "adata.var_names = adata.var[\"gene\"]\n",
    "adata = adata[:, ~adata.var_names.duplicated()].copy()\n",
    "\n",
    "# do processing of data to prepare for UMAP and cell cycle determination\n",
    "n_comps = 10\n",
    "sc.pp.log1p(adata)\n",
    "sc.tl.pca(adata, n_comps=n_comps)\n",
    "sc.pp.neighbors(adata, n_pcs=n_comps)\n",
    "\n",
    "# assign cell phase\n",
    "cytoprofiling.assign_cell_phase(adata)\n",
    "\n",
    "# calculate UMAP\n",
    "sc.tl.umap(adata)\n",
    "\n",
    "# plot UMAP with calculated cell phase\n",
    "sc.pl.umap(adata, color=\"phase\")"
   ]
  }
 ],
 "metadata": {
  "kernelspec": {
   "display_name": "Python 3",
   "language": "python",
   "name": "python3"
  },
  "language_info": {
   "codemirror_mode": {
    "name": "ipython",
    "version": 3
   },
   "file_extension": ".py",
   "mimetype": "text/x-python",
   "name": "python",
   "nbconvert_exporter": "python",
   "pygments_lexer": "ipython3",
   "version": "3.11.0"
  }
 },
 "nbformat": 4,
 "nbformat_minor": 2
}
