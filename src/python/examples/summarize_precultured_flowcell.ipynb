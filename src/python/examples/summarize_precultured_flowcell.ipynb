{
 "cells": [
  {
   "cell_type": "markdown",
   "metadata": {},
   "source": [
    "# Summary\n",
    "\n",
    "This workbook will generate a variety of summary plots for pre-cultured cytoprofiling flowcells provided by  Element Biosciences. These flowcells are seeded with either HeLa or A549 cells in alternating wells\n",
    "\n",
    "## Hela (Human Cervical Cancer)\n",
    "* Derived from cervical adenocarcinoma \n",
    "* Highly proliferative and genetically unstable\n",
    "* Commonly used in studies of cell cycle, DNA repair, and signaling\n",
    "* Strong NF-κB and p53 responses to stress stimuli\n",
    "\n",
    "## A549 (Human Lung Carcinoma)\n",
    "* Derived from alveolar basal epithelial cells (lung adenocarcinoma)\n",
    "* Moderately proliferative, more epithelial in morphology\n",
    "* Frequently used in respiratory research and drug testing\n",
    "* Known for robust MAPK/ERK signaling and oxidative stress responses\n",
    "\n",
    "## Comparison\n",
    "* Both are adherent epithelial cancer lines but differ in tissue origin (cervix vs. lung)\n",
    "* Response profiles to cytokines and inhibitors can diverge, making them complementary models for signaling studies\n",
    "\n",
    "\n",
    "# Using the notebook\n",
    "\n",
    "## Prerequisites\n",
    "\n",
    "The following python packages must be installed\n",
    "* matplotlib\n",
    "* numpy \n",
    "* pandas\n",
    "* scanpy\n",
    "* cytoprofiling (see instrunctions at https://github.com/Elembio/cytoprofiling)\n",
    "\n",
    "\n",
    "## Executing the notebook\n",
    "Before executing the workbook, download the data for the three files noted below from the run directory for your run and ensure the paths below point to location on the local sytem. \n",
    "\n",
    "| File | Path in Run Directory |\n",
    "|-|-|\n",
    "| RunStats.json | Cytoprofiling/Instrument/RunStats.json |\n",
    "| RawCellStats.parquet | Cytoprofiling/Instrument/RawCellStats.parquet |\n",
    "| Panel.json | Panel.json |"
   ]
  },
  {
   "cell_type": "code",
   "execution_count": null,
   "metadata": {},
   "outputs": [],
   "source": [
    "run_stats_json = \"RunStats.json\"\n",
    "panel_json = \"Panel.json\"\n",
    "raw_cell_stats_parquet = \"RawCellStats.parquet\""
   ]
  },
  {
   "cell_type": "markdown",
   "metadata": {},
   "source": [
    "Define plotting functions"
   ]
  },
  {
   "cell_type": "code",
   "execution_count": null,
   "metadata": {},
   "outputs": [],
   "source": [
    "from matplotlib import pyplot as plt\n",
    "import numpy as np\n",
    "\n",
    "def plot_per_batch_and_well(wells, batch2well_values, label, run_name):\n",
    "    batch_names = sorted(list(batch2well_values.keys()))\n",
    "\n",
    "    width = 1 / (len(batch_names) + 1)\n",
    "\n",
    "    plt.figure(figsize=(10,6))\n",
    "    for batch_idx, batch in enumerate(batch_names):\n",
    "        values = [float(\"nan\") if abs(float(val) + 999) < 0.0001 else float(val) for val in batch2well_values[batch]]\n",
    "        plt.bar([pos + batch_idx * width for pos in range(len(wells))], values, width = width, label=batch)\n",
    "\n",
    "    plt.xticks(np.arange(len(wells)) + width/2, [f\"{well}\" for well in wells]) \n",
    "    plt.xticks(rotation=-45, ha=\"left\")\n",
    "    plt.ylabel(label)\n",
    "    plt.xlabel(\"Well\")\n",
    "    plt.title(run_name)\n",
    "    plt.legend()\n",
    "    plt.tight_layout()\n",
    "    plt.show()\n",
    "    plt.close()\n",
    "\n",
    "def plot_per_well(wells, values, label, run_name):\n",
    "    plt.figure(figsize=(10,6))\n",
    "    plt.bar(wells, values)\n",
    "    \n",
    "    plt.xticks(range(len(wells)), [f\"{well}\" for well in wells]) \n",
    "    plt.xticks(rotation=-45, ha=\"left\")\n",
    "    plt.ylabel(label)\n",
    "    plt.xlabel(\"Well\")\n",
    "    plt.title(run_name)\n",
    "    plt.tight_layout()\n",
    "    plt.show()\n",
    "    plt.close()"
   ]
  },
  {
   "cell_type": "markdown",
   "metadata": {},
   "source": [
    "Load the json files (run stats, panel) into python dictionaries"
   ]
  },
  {
   "cell_type": "code",
   "execution_count": null,
   "metadata": {},
   "outputs": [],
   "source": [
    "import json\n",
    "\n",
    "with open(run_stats_json) as f:\n",
    "    run_stats = json.load(f)\n",
    "\n",
    "with open(panel_json) as f:\n",
    "    panel = json.load(f)\n",
    "\n",
    "wells = sorted([well_data[\"WellLocation\"] for well_data in run_stats[\"CytoStats\"][\"Wells\"]])\n",
    "batches = sorted([batch_data[\"BatchName\"] for batch_data in run_stats[\"DemuxStats\"][\"Batches\"]])"
   ]
  },
  {
   "cell_type": "markdown",
   "metadata": {},
   "source": [
    "# Barcoding performance metrics\n",
    "\n",
    "Groups of barcodes are sequenced in serial batches, where each batch is defined by a specific sequencing primer. The plots below detail metrics assessing the barcoding performance in each batch for each well in the flowcell. \n",
    "\n",
    "| Metric | Description | Expected Value |\n",
    "|-|-|-|\n",
    "| PercentAssignedReads | Of all polonies, percentage assigned to an expected barcode | > 70% |\n",
    "| PercentMismatch | Of all polonies assigned to a barcode, percentage assigned with a mismatch | < 35% |\n"
   ]
  },
  {
   "cell_type": "code",
   "execution_count": null,
   "metadata": {},
   "outputs": [],
   "source": [
    "for demux_stat in [\"PercentAssignedReads\", \"PercentMismatch\"]:\n",
    "    values = {}\n",
    "    for batch_data in run_stats[\"DemuxStats\"][\"Batches\"]:\n",
    "        batch_values = []\n",
    "        for well in wells:\n",
    "            well_value = float(\"nan\")\n",
    "            well_data = [well_data for well_data in batch_data[\"Wells\"] if well_data[\"WellLocation\"] == well]\n",
    "            if len(well_data) == 1:\n",
    "                well_value = well_data[0][demux_stat]\n",
    "                if abs(float(well_value) + 999) < 0.0001:\n",
    "                    well_value = float(\"nan\")\n",
    "            batch_values.append(well_value)\n",
    "        values[batch_data[\"BatchName\"]] = batch_values\n",
    "    plot_per_batch_and_well(wells, values, demux_stat, run_stats[\"RunName\"])"
   ]
  },
  {
   "cell_type": "markdown",
   "metadata": {},
   "source": [
    "# Cell segmentation performance metrics\n",
    "\n",
    "Cell segmentation is performed based on the cell paint images for the cell membrane, nucleus and actin. The metrics below summarize the results of the segmentation process for each well in the flowcell. \n",
    "\n",
    "| Metric | Description | Expected Value |\n",
    "|-|-|-|\n",
    "| PercentConfluency | Fraction of well area occupied by cells | 25-50% (variable based on cell seeding) |\n",
    "| CellCount | Number of objects detected during segmentation | >10,000 (variable based on cell seeding) |\n",
    "| MedianCellDiameter | Approximate median diameter of cells in microns | ~35 um |\n",
    "| PercentNucleatedCells | Fraction of cells with segmented nucleus | > 97% | "
   ]
  },
  {
   "cell_type": "code",
   "execution_count": null,
   "metadata": {},
   "outputs": [],
   "source": [
    "for segmentation_metric in [\"PercentConfluency\", \"CellCount\", \"MedianCellDiameter\", \"PercentNucleatedCells\"]:\n",
    "    values = []\n",
    "    for well in wells:\n",
    "        well_value = float(\"nan\")\n",
    "        well_data = [well_data for well_data in run_stats[\"CytoStats\"][\"Wells\"] if well_data[\"WellLocation\"] == well]\n",
    "        if len(well_data) == 1:\n",
    "            well_value = float(\"nan\") if abs(well_data[0][segmentation_metric]+999) < 0.0001 else well_data[0][segmentation_metric]\n",
    "        values.append(well_value)\n",
    "    plot_per_well(wells, values, segmentation_metric, run_stats[\"RunName\"])"
   ]
  },
  {
   "cell_type": "markdown",
   "metadata": {},
   "source": [
    "# Cell assignment metrics\n",
    "\n",
    "After barcoding and cell segmentation is complete, individual barcodes are assigned to cells. The metrics below summarize this process. \n",
    "\n",
    "| Metric | Description | Expected Value |\n",
    "|-|-|-|\n",
    "| AssignedCountsPerMM2 | Number of assigned polonies per mm2 of cell area | ~150,000 (protein), 200,000-300,000 (RNA) |"
   ]
  },
  {
   "cell_type": "code",
   "execution_count": null,
   "metadata": {},
   "outputs": [],
   "source": [
    "for cyto_stat in [\"AssignedCountsPerMM2\",]:\n",
    "    values = {}\n",
    "    for well_data in run_stats[\"CytoStats\"][\"Wells\"]:\n",
    "        for batch_data in well_data[\"Batches\"]:\n",
    "            batch_name = batch_data[\"BatchName\"]\n",
    "            if batch_name.startswith(\"CP\"):\n",
    "                continue\n",
    "            batch_value = batch_data.get(cyto_stat, -999)\n",
    "            if batch_value + 999 < 0.0001:\n",
    "                batch_value = float(\"nan\")\n",
    "            values.setdefault(batch_data[\"BatchName\"], []).append(batch_value)\n",
    "    plot_per_batch_and_well(wells, values, cyto_stat, run_stats[\"RunName\"])"
   ]
  },
  {
   "cell_type": "markdown",
   "metadata": {},
   "source": [
    "Load the raw cell stats into a data frame"
   ]
  },
  {
   "cell_type": "code",
   "execution_count": null,
   "metadata": {},
   "outputs": [],
   "source": [
    "import pandas as pd\n",
    "from cytoprofiling import filter_cells\n",
    "\n",
    "df = pd.read_parquet(\"RawCellStats.parquet\")\n",
    "df = filter_cells(df)"
   ]
  },
  {
   "cell_type": "markdown",
   "metadata": {},
   "source": [
    "# Correlation metrics\n",
    "\n",
    "For each pair of wells, we can calculate the correlation of log-transformed average counts as a measure of reproducibility. For both RNA and protein data types, replicates wells should have R2 > 0.95. "
   ]
  },
  {
   "cell_type": "code",
   "execution_count": null,
   "metadata": {},
   "outputs": [],
   "source": [
    "import numpy as np\n",
    "import scanpy as sc\n",
    "import seaborn as sns\n",
    "from matplotlib import pyplot as plt\n",
    "from cytoprofiling import cytoprofiling_to_anndata\n",
    "import warnings\n",
    "warnings.filterwarnings(\"ignore\", category=UserWarning, module=\"anndata\")\n",
    "\n",
    "for data_type in [\"RNA\", \"Protein\"]:\n",
    "\n",
    "    # Convert dataframe to anndata\n",
    "    adata = cytoprofiling_to_anndata(df, panel)\n",
    "\n",
    "    # filter data columns to only include simple counts for data_type\n",
    "    adata = adata[:,(~adata.var[\"is_unassigned\"]) & (~adata.var[\"is_nuclear\"]) & np.isin(adata.var[\"measurement_type\"], [data_type,])]\n",
    "\n",
    "\n",
    "    wells_x = adata.obs[\"Well\"].unique()\n",
    "\n",
    "\n",
    "    # average anndata object adata by well observation\n",
    "    grouped_adata = sc.get.aggregate(adata, func = 'mean', by = \"Well\")\n",
    "\n",
    "    well2label_x = {}\n",
    "    for well in wells_x:\n",
    "        well2label_x[well] = df[\"WellLabel\"][df[\"Well\"] == well].unique()[0]\n",
    "\n",
    "    distances_2d = []\n",
    "    for well_idx in range(len(wells_x)):\n",
    "        current_distances = []\n",
    "        for well_idy in range(len(wells_x)):            \n",
    "            well_x = wells_x[well_idx]\n",
    "            well_y = wells_x[well_idy]\n",
    "\n",
    "            r2 = np.corrcoef(np.log2(grouped_adata[grouped_adata.obs[\"Well\"] == well_x].layers[\"mean\"].flatten()), np.log2(grouped_adata[grouped_adata.obs[\"Well\"] == well_y].layers[\"mean\"].flatten()))[0][1] ** 2\n",
    "            current_distances.append(r2)\n",
    "            if well_idy == well_idx:\n",
    "                continue\n",
    "            \n",
    "        distances_2d.append(current_distances)\n",
    "\n",
    "    sns.heatmap(distances_2d, annot=False, cmap='coolwarm', yticklabels=wells_x, xticklabels= [f\"{well} {well2label_x[well]}\" for well in wells_x])\n",
    "\n",
    "    plt.title(f\"{run_stats['RunName']} well correlation - {data_type}\")\n",
    "    plt.show()\n",
    "    plt.close()"
   ]
  },
  {
   "cell_type": "markdown",
   "metadata": {},
   "source": [
    "# UMAP projection and cell state \n",
    "\n",
    "The single-cell data can be used to generate a UMAP projection. Across the entire flowcell, the UMAP projection should separate the data into two well-defined clusters, with the two different cell types comprising each cluster. Within each cluster, a circular pattern should exist, corresponding to the annotated cell state. "
   ]
  },
  {
   "cell_type": "code",
   "execution_count": null,
   "metadata": {},
   "outputs": [],
   "source": [
    "import scanpy as sc\n",
    "import numpy as np\n",
    "from cytoprofiling import cytoprofiling_to_anndata, assign_cell_phase\n",
    "import warnings\n",
    "warnings.filterwarnings(\"ignore\", category=UserWarning, module=\"anndata\")\n",
    "\n",
    "# Convert dataframe to anndata\n",
    "adata = cytoprofiling_to_anndata(df, panel)\n",
    "\n",
    "# filter data columns to only include simple counts for protein and RNA\n",
    "adata = adata[:,(~adata.var[\"is_unassigned\"]) & (~adata.var[\"is_nuclear\"]) & np.isin(adata.var[\"measurement_type\"], [\"RNA\", \"Protein\"])]\n",
    "\n",
    "# convert column names to gene names and remove any resulting duplicates \n",
    "adata.var_names = adata.var[\"gene\"]\n",
    "adata = adata[:, ~adata.var_names.duplicated()].copy()\n",
    "\n",
    "# do processing of data to prepare for UMAP and cell cycle determination\n",
    "n_comps = 10\n",
    "sc.pp.normalize_total(adata, target_sum=1e4)\n",
    "sc.pp.log1p(adata)\n",
    "sc.tl.pca(adata, n_comps=n_comps)\n",
    "sc.pp.neighbors(adata, n_pcs=n_comps)\n",
    "\n",
    "# assign cell phase\n",
    "assign_cell_phase(adata)\n",
    "\n",
    "# calculate UMAP\n",
    "sc.tl.umap(adata)\n",
    "\n",
    "# plot UMAP with well label\n",
    "sc.pl.umap(adata, color=\"WellLabel\")\n",
    "\n",
    "# plot UMAP with calculated cell phase\n",
    "sc.pl.umap(adata, color=\"phase\")"
   ]
  }
 ],
 "metadata": {
  "kernelspec": {
   "display_name": "Python 3",
   "language": "python",
   "name": "python3"
  },
  "language_info": {
   "codemirror_mode": {
    "name": "ipython",
    "version": 3
   },
   "file_extension": ".py",
   "mimetype": "text/x-python",
   "name": "python",
   "nbconvert_exporter": "python",
   "pygments_lexer": "ipython3",
   "version": "3.11.0"
  }
 },
 "nbformat": 4,
 "nbformat_minor": 2
}
